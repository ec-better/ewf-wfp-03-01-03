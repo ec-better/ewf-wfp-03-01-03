{
 "cells": [
  {
   "cell_type": "code",
   "execution_count": 1,
   "metadata": {},
   "outputs": [],
   "source": [
    "import os\n",
    "import sys\n",
    "import string\n",
    "import atexit\n",
    "\n",
    "import cioppy \n",
    "ciop = cioppy.Cioppy()\n",
    "\n",
    "#sys.path.append('/'.join([os.environ['_CIOP_APPLICATION_PATH'], 'util']))\n",
    "sys.path.append('../util')"
   ]
  },
  {
   "cell_type": "code",
   "execution_count": 2,
   "metadata": {},
   "outputs": [],
   "source": [
    "x=['https://store.terradue.com/ppishehvar/_results/workflows/ec_better_ewf_wfp_03_01_01_ewf_wfp_03_01_01_0_2/run/1e631064-b158-11ea-bbe6-0242ac110003/0013082-200518181542206-oozie-oozi-W/9a2364b0-51ef-4a2b-a397-a0e0c28459aa/S3A_OL_2_LFR____20200612T063015_20200612T063315_20200612T081703_0179_059_191_2700_LN1_O_NR_002_L5_C39_R18.tif','https://store.terradue.com/ppishehvar/_results/workflows/ec_better_ewf_wfp_03_01_01_ewf_wfp_03_01_01_0_2/run/1e631064-b158-11ea-bbe6-0242ac110003/0013082-200518181542206-oozie-oozi-W/9a2364b0-51ef-4a2b-a397-a0e0c28459aa/S3A_OL_2_LFR____20200612T063015_20200612T063315_20200612T081703_0179_059_191_2700_LN1_O_NR_002_L5_C41_R17.tif']"
   ]
  },
  {
   "cell_type": "code",
   "execution_count": 3,
   "metadata": {},
   "outputs": [],
   "source": [
    "    ciop = cioppy.Cioppy()\n",
    "    \n",
    "    data_pipeline_parameters = dict()    \n",
    "    \n",
    "    data_pipeline_parameters['username'] = 'ppishehvar'\n",
    "    data_pipeline_parameters['api_key'] = 'AKCp5bAt5mqJb8iUxYHEeyuGYN63VMbrLFw6GVVkT4Kp8C6Tnwov5rk9FvmYGEC31fRtMLo2F'\n",
    "    \n",
    "    creds = '{}:{}'.format(data_pipeline_parameters['username'],\n",
    "                           data_pipeline_parameters['api_key'])\n",
    "\n",
    "\n",
    " \n",
    "    references = []"
   ]
  },
  {
   "cell_type": "code",
   "execution_count": 4,
   "metadata": {},
   "outputs": [
    {
     "name": "stderr",
     "output_type": "stream",
     "text": [
      "reporter:status:2020-06-24T10:00:12.763203 [INFO   ] [user process] Adding https://store.terradue.com/ppishehvar/_results/workflows/ec_better_ewf_wfp_03_01_01_ewf_wfp_03_01_01_0_2/run/1e631064-b158-11ea-bbe6-0242ac110003/0013082-200518181542206-oozie-oozi-W/9a2364b0-51ef-4a2b-a397-a0e0c28459aa/S3A_OL_2_LFR____20200612T063015_20200612T063315_20200612T081703_0179_059_191_2700_LN1_O_NR_002_L5_C39_R18.tif\n",
      "2020-06-24T10:00:12.763203 [INFO   ] [user process] Adding https://store.terradue.com/ppishehvar/_results/workflows/ec_better_ewf_wfp_03_01_01_ewf_wfp_03_01_01_0_2/run/1e631064-b158-11ea-bbe6-0242ac110003/0013082-200518181542206-oozie-oozi-W/9a2364b0-51ef-4a2b-a397-a0e0c28459aa/S3A_OL_2_LFR____20200612T063015_20200612T063315_20200612T081703_0179_059_191_2700_LN1_O_NR_002_L5_C39_R18.tif\n",
      "reporter:status:2020-06-24T10:00:12.763307 [INFO   ] [user process] Adding https://store.terradue.com/ppishehvar/_results/workflows/ec_better_ewf_wfp_03_01_01_ewf_wfp_03_01_01_0_2/run/1e631064-b158-11ea-bbe6-0242ac110003/0013082-200518181542206-oozie-oozi-W/9a2364b0-51ef-4a2b-a397-a0e0c28459aa/S3A_OL_2_LFR____20200612T063015_20200612T063315_20200612T081703_0179_059_191_2700_LN1_O_NR_002_L5_C41_R17.tif\n",
      "2020-06-24T10:00:12.763307 [INFO   ] [user process] Adding https://store.terradue.com/ppishehvar/_results/workflows/ec_better_ewf_wfp_03_01_01_ewf_wfp_03_01_01_0_2/run/1e631064-b158-11ea-bbe6-0242ac110003/0013082-200518181542206-oozie-oozi-W/9a2364b0-51ef-4a2b-a397-a0e0c28459aa/S3A_OL_2_LFR____20200612T063015_20200612T063315_20200612T081703_0179_059_191_2700_LN1_O_NR_002_L5_C41_R17.tif\n"
     ]
    }
   ],
   "source": [
    "    for input in x:\n",
    "        ciop.log('INFO', 'Adding {}'.format(input.rstrip()))       \n",
    "        references.append(input.rstrip().split(',')[0])"
   ]
  },
  {
   "cell_type": "code",
   "execution_count": null,
   "metadata": {},
   "outputs": [],
   "source": [
    "z=references[0].split('/')[-1].split('.')[0]"
   ]
  },
  {
   "cell_type": "code",
   "execution_count": null,
   "metadata": {},
   "outputs": [],
   "source": [
    "z"
   ]
  },
  {
   "cell_type": "code",
   "execution_count": null,
   "metadata": {},
   "outputs": [],
   "source": [
    "z[-7:]"
   ]
  },
  {
   "cell_type": "code",
   "execution_count": null,
   "metadata": {},
   "outputs": [],
   "source": [
    "def analyse_row(row):\n",
    "#From title in properties file get the date and Julian day     \n",
    "    series = dict()\n",
    "    \n",
    "    series['day'] = row['title'][11:19]\n",
    "    series['jday'] = '{}{}'.format(datetime.datetime.strptime(series['day'], '%Y%m%d').timetuple().tm_year,\n",
    "                                   \"%03d\"%datetime.datetime.strptime(series['day'], '%Y%m%d').timetuple().tm_yday)\n",
    "    \n",
    "    return pd.Series(series)"
   ]
  },
  {
   "cell_type": "code",
   "execution_count": 5,
   "metadata": {},
   "outputs": [],
   "source": [
    "import pandas as pd"
   ]
  },
  {
   "cell_type": "code",
   "execution_count": null,
   "metadata": {},
   "outputs": [],
   "source": [
    "\n",
    "        \n",
    "#To be added when input data pipeline is configured        \n",
    "data_pipeline_results = pd.DataFrame()\n",
    "for index, end_point in enumerate(references):\n",
    "    ciop.log('INFO', 'Getting metadata for {}'.format(end_point)) \n",
    "\n",
    "    temp_df = pd.DataFrame({'enclosure':'{}'.format(end_point),\n",
    "                           'title':'{}'.format(end_point.split('/')[-1].split('.')[0])},index=[index])\n",
    "    print(temp_df)\n",
    "    data_pipeline_results = data_pipeline_results.append(temp_df, ignore_index=True)\n",
    "      \n"
   ]
  },
  {
   "cell_type": "code",
   "execution_count": null,
   "metadata": {},
   "outputs": [],
   "source": [
    "data_pipeline_results"
   ]
  },
  {
   "cell_type": "code",
   "execution_count": 6,
   "metadata": {},
   "outputs": [],
   "source": [
    "input_list=['node_tiling_data_tile_0_0_C41_R17.pickle',\n",
    "            'node_tiling_data_tile_0_0_C39_R18.pickle',\n",
    "            'node_tiling_data_tile_0_1_C41_R17.pickle',\n",
    "            'node_tiling_data_tile_0_1_C39_R18.pickle']"
   ]
  },
  {
   "cell_type": "code",
   "execution_count": 7,
   "metadata": {},
   "outputs": [],
   "source": [
    "def get_vsi_url(enclosure, user, api_key):\n",
    "    \n",
    "    parsed_url = urlparse.urlparse(enclosure)\n",
    "\n",
    "    url = '/vsicurl/%s://%s:%s@%s/api%s' % (list(parsed_url)[0],\n",
    "                                            user, \n",
    "                                            api_key, \n",
    "                                            list(parsed_url)[1],\n",
    "                                            list(parsed_url)[2])\n",
    "    \n",
    "    return url "
   ]
  },
  {
   "cell_type": "code",
   "execution_count": 8,
   "metadata": {},
   "outputs": [],
   "source": [
    "import gdal\n",
    "import pandas as pd\n",
    "import urllib.parse as urlparse\n",
    "import numpy as np"
   ]
  },
  {
   "cell_type": "code",
   "execution_count": 12,
   "metadata": {},
   "outputs": [
    {
     "name": "stdout",
     "output_type": "stream",
     "text": [
      "{'NDVI': 1, 'OGVI': 2, 'OCTI': 3, 'Land mask': 4, 'Cloud mask': 5, 'OGVI fail mask': 6}\n",
      "{'NDVI': 1, 'OGVI': 2, 'OCTI': 3, 'Land mask': 4, 'Cloud mask': 5, 'OGVI fail mask': 6}\n",
      "{'NDVI': 1, 'OGVI': 2, 'OCTI': 3, 'Land mask': 4, 'Cloud mask': 5, 'OGVI fail mask': 6}\n",
      "{'NDVI': 1, 'OGVI': 2, 'OCTI': 3, 'Land mask': 4, 'Cloud mask': 5, 'OGVI fail mask': 6}\n",
      "{'NDVI': 1, 'OGVI': 2, 'OCTI': 3, 'Land mask': 4, 'Cloud mask': 5, 'OGVI fail mask': 6}\n",
      "{'NDVI': 1, 'OGVI': 2, 'OCTI': 3, 'Land mask': 4, 'Cloud mask': 5, 'OGVI fail mask': 6}\n",
      "{'NDVI': 1, 'OGVI': 2, 'OCTI': 3, 'Land mask': 4, 'Cloud mask': 5, 'OGVI fail mask': 6}\n",
      "{'NDVI': 1, 'OGVI': 2, 'OCTI': 3, 'Land mask': 4, 'Cloud mask': 5, 'OGVI fail mask': 6}\n"
     ]
    }
   ],
   "source": [
    "for inp in input_list: \n",
    "    sub_tile = pd.read_pickle(inp, 'gzip')\n",
    "    sub_tile = sub_tile.merge(sub_tile.apply(lambda row: analyse_subtile(row, data_pipeline_parameters, 'NDVI'), axis=1),\n",
    "                                  left_index=True,\n",
    "                                  right_index=True)\n",
    "\n"
   ]
  },
  {
   "cell_type": "code",
   "execution_count": 13,
   "metadata": {},
   "outputs": [
    {
     "data": {
      "text/html": [
       "<div>\n",
       "<style scoped>\n",
       "    .dataframe tbody tr th:only-of-type {\n",
       "        vertical-align: middle;\n",
       "    }\n",
       "\n",
       "    .dataframe tbody tr th {\n",
       "        vertical-align: top;\n",
       "    }\n",
       "\n",
       "    .dataframe thead th {\n",
       "        text-align: right;\n",
       "    }\n",
       "</style>\n",
       "<table border=\"1\" class=\"dataframe\">\n",
       "  <thead>\n",
       "    <tr style=\"text-align: right;\">\n",
       "      <th></th>\n",
       "      <th>index</th>\n",
       "      <th>cols</th>\n",
       "      <th>day</th>\n",
       "      <th>enclosure</th>\n",
       "      <th>jday</th>\n",
       "      <th>rows</th>\n",
       "      <th>start_x</th>\n",
       "      <th>start_y</th>\n",
       "      <th>sub_tile</th>\n",
       "      <th>geo_transform</th>\n",
       "      <th>projection</th>\n",
       "      <th>mask</th>\n",
       "      <th>ndvi</th>\n",
       "    </tr>\n",
       "  </thead>\n",
       "  <tbody>\n",
       "    <tr>\n",
       "      <th>0</th>\n",
       "      <td>1</td>\n",
       "      <td>639.0</td>\n",
       "      <td>20200612</td>\n",
       "      <td>https://store.terradue.com/ppishehvar/_results...</td>\n",
       "      <td>2020164</td>\n",
       "      <td>639.0</td>\n",
       "      <td>0.0</td>\n",
       "      <td>639.0</td>\n",
       "      <td>tile_0_1_C39_R18</td>\n",
       "      <td>[(39.37452111565483, 0.0029338027172184852, 0....</td>\n",
       "      <td></td>\n",
       "      <td>[[0.0, 0.0, 0.0, 0.0, 0.0, 0.0, 0.0, 0.0, 0.0,...</td>\n",
       "      <td>[[255.0, 255.0, 255.0, 255.0, 255.0, 255.0, 25...</td>\n",
       "    </tr>\n",
       "  </tbody>\n",
       "</table>\n",
       "</div>"
      ],
      "text/plain": [
       "   index   cols       day                                          enclosure  \\\n",
       "0      1  639.0  20200612  https://store.terradue.com/ppishehvar/_results...   \n",
       "\n",
       "      jday   rows  start_x  start_y          sub_tile  \\\n",
       "0  2020164  639.0      0.0    639.0  tile_0_1_C39_R18   \n",
       "\n",
       "                                       geo_transform projection  \\\n",
       "0  [(39.37452111565483, 0.0029338027172184852, 0....              \n",
       "\n",
       "                                                mask  \\\n",
       "0  [[0.0, 0.0, 0.0, 0.0, 0.0, 0.0, 0.0, 0.0, 0.0,...   \n",
       "\n",
       "                                                ndvi  \n",
       "0  [[255.0, 255.0, 255.0, 255.0, 255.0, 255.0, 25...  "
      ]
     },
     "execution_count": 13,
     "metadata": {},
     "output_type": "execute_result"
    }
   ],
   "source": [
    "sub_tile"
   ]
  },
  {
   "cell_type": "code",
   "execution_count": 9,
   "metadata": {},
   "outputs": [],
   "source": [
    "def analyse_subtile(row, parameters, band_to_analyse):\n",
    "    \n",
    "    series = dict()\n",
    "    \n",
    "    src_ds = gdal.Open(get_vsi_url(row.enclosure, \n",
    "                                   parameters['username'], \n",
    "                                   parameters['api_key']))\n",
    "    \n",
    "    bands = dict()\n",
    "\n",
    "    for band in range(src_ds.RasterCount):\n",
    "\n",
    "        band += 1\n",
    "        bands[src_ds.GetRasterBand(band).GetDescription()] = band \n",
    "    print(bands)\n",
    "    vsi_mem = '/vsimem/t.tif'\n",
    "   \n",
    "    gdal.Translate(vsi_mem, \n",
    "                   src_ds,\n",
    "                   srcWin=[row.start_x, row.start_y, row.cols, row.rows])\n",
    "    \n",
    "    ds_mem = gdal.Open(vsi_mem)\n",
    "    \n",
    "    if ds_mem is None:\n",
    "        raise\n",
    "\n",
    "    # get the geocoding for the sub-tile\n",
    "    series['geo_transform'] = [ds_mem.GetGeoTransform()]\n",
    "    series['projection'] = ds_mem.GetProjection()\n",
    "    series['mask']= np.array(ds_mem.GetRasterBand(5).ReadAsArray())\n",
    "    #series['SCL_mask'] = ((series['SCL'] == 2) | (series['SCL'] == 4) | (series['SCL'] == 5) | (series['SCL'] == 6) |(series['SCL'] == 7) | (series['SCL'] == 10) | (series['SCL'] == 11))\n",
    "    if band_to_analyse == 'NDVI':\n",
    "            series['ndvi'] = np.array(ds_mem.GetRasterBand(1).ReadAsArray(),np.float32)\n",
    "\n",
    "\n",
    "    \n",
    "    \n",
    "\n",
    "    ds_mem.FlushCache()\n",
    "\n",
    "    return pd.Series(series)\n",
    "\n"
   ]
  },
  {
   "cell_type": "code",
   "execution_count": null,
   "metadata": {},
   "outputs": [],
   "source": []
  }
 ],
 "metadata": {
  "kernelspec": {
   "display_name": "env_ewf_MS_test",
   "language": "python",
   "name": "env_ewf_satcen_03_03_02_test_ms"
  },
  "language_info": {
   "codemirror_mode": {
    "name": "ipython",
    "version": 3
   },
   "file_extension": ".py",
   "mimetype": "text/x-python",
   "name": "python",
   "nbconvert_exporter": "python",
   "pygments_lexer": "ipython3",
   "version": "3.6.10"
  }
 },
 "nbformat": 4,
 "nbformat_minor": 2
}
